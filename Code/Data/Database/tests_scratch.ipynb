{
 "cells": [
  {
   "cell_type": "code",
   "execution_count": 1,
   "metadata": {},
   "outputs": [],
   "source": [
    "import pandas as pd\n",
    "import numpy as np\n",
    "import sqlite3 as sl"
   ]
  },
  {
   "cell_type": "markdown",
   "metadata": {},
   "source": [
    "## Import Data"
   ]
  },
  {
   "cell_type": "code",
   "execution_count": 2,
   "metadata": {},
   "outputs": [],
   "source": [
    "# sqlite connection\n",
    "cnxn=sl.connect('./TTRM')\n",
    "\n",
    "# dictionary of { table_name: value} pairs\n",
    "table_names = ['CITY', 'LEGS', 'SCORE', 'TICKETS']\n",
    "tables_dict = { table_name: pd.read_sql( \n",
    "                                            'SELECT * FROM ' + table_name\n",
    "                                            , cnxn\n",
    "                                        ) \n",
    "                       for table_name in table_names }"
   ]
  },
  {
   "cell_type": "markdown",
   "metadata": {},
   "source": [
    "### Preview first 5 rows of the tables"
   ]
  },
  {
   "cell_type": "code",
   "execution_count": 3,
   "metadata": {},
   "outputs": [
    {
     "name": "stdout",
     "output_type": "stream",
     "text": [
      "CITY \n",
      "          CITY   STATE DEGREE        LAT         LON\n",
      "0     Atlanta      GA      7  33.762909  -84.422675\n",
      "1      Boston      MA      4  42.360100  -71.058900\n",
      "2     Calgary   CA-BC      4  51.044270 -114.062019\n",
      "3  Charleston      SC      3  32.776500  -79.931100\n",
      "4     Chicago      IL      7  41.878100  -87.629800 \n",
      "\n",
      "\n",
      "LEGS \n",
      "        OCITY     DCITY ROUTE_COLOR  NUM_CARS\n",
      "0  Vancouver   Calgary        Gray         3\n",
      "1  Vancouver   Seattle        Gray         1\n",
      "2  Vancouver   Seattle        Gray         1\n",
      "3    Seattle  Portland        Gray         1\n",
      "4    Seattle  Portland        Gray         1 \n",
      "\n",
      "\n",
      "SCORE \n",
      "    NUM_CARS  POINTS\n",
      "0         1       1\n",
      "1         2       2\n",
      "2         3       4\n",
      "3         4       7\n",
      "4         5      10 \n",
      "\n",
      "\n",
      "TICKETS \n",
      "      OCITY           DCITY  POINTS\n",
      "0   Boston           Miami      12\n",
      "1  Calgary         Phoenix      13\n",
      "2  Calgary  Salt Lake City       7\n",
      "3  Chicago     New Orleans       7\n",
      "4  Chicago        Santa Fe       9 \n",
      "\n",
      "\n"
     ]
    }
   ],
   "source": [
    "for i in tables_dict:\n",
    "    print( i,'\\n', tables_dict[i].head(5), '\\n\\n' )"
   ]
  },
  {
   "cell_type": "code",
   "execution_count": 7,
   "metadata": {},
   "outputs": [],
   "source": [
    "# verify that city sets match\n",
    "city_cities = set( tables_dict['CITY']['CITY'])\n",
    "legs_cities = set( tables_dict['LEGS']['OCITY'] ) | set( tables_dict['LEGS']['DCITY'] )\n",
    "\n",
    "for city in city_cities:\n",
    "    if city not in legs_cities:\n",
    "        print( \"DATA MISMATCH: city\", city, \"is present in city table but not in legs table\")\n",
    "        \n",
    "for city in legs_cities:\n",
    "    if city not in city_cities:\n",
    "        print( \"DATA MISMATCH: city\", city, \"is present in legs table but not in city table\")\n",
    "        \n",
    "assert( city_cities == legs_cities)"
   ]
  },
  {
   "cell_type": "code",
   "execution_count": 13,
   "metadata": {},
   "outputs": [],
   "source": [
    "# verify that the number of cities in the city table matches the count of cities on the gameboard (36)"
   ]
  },
  {
   "cell_type": "code",
   "execution_count": null,
   "metadata": {},
   "outputs": [],
   "source": [
    "# verify that the number of distinct cities in the legs table matches the count of cities on the gameboard(36)"
   ]
  },
  {
   "cell_type": "code",
   "execution_count": 14,
   "metadata": {},
   "outputs": [],
   "source": [
    "# verify that out-degree in city table matches number of appearances in legs table"
   ]
  },
  {
   "cell_type": "code",
   "execution_count": 9,
   "metadata": {},
   "outputs": [],
   "source": [
    "# verify that number of routes of color c matches the total number of appearances in legs table (requires validation table: number of legs by color)"
   ]
  },
  {
   "cell_type": "code",
   "execution_count": 10,
   "metadata": {},
   "outputs": [],
   "source": [
    "# verifty that sums of lengths of routes by color c matches the number of spots on the game board (requires validation table: number of spots of color on gameboard)"
   ]
  },
  {
   "cell_type": "code",
   "execution_count": 11,
   "metadata": {},
   "outputs": [],
   "source": [
    "# verify that latitudes and longitudes are reasonable (within the continental United States/Canada)"
   ]
  },
  {
   "cell_type": "code",
   "execution_count": 12,
   "metadata": {},
   "outputs": [],
   "source": [
    "# verify that the number of tickets matches the number in the gamebox (# of tickets from box== )"
   ]
  },
  {
   "cell_type": "code",
   "execution_count": null,
   "metadata": {},
   "outputs": [],
   "source": []
  }
 ],
 "metadata": {
  "kernelspec": {
   "display_name": "Python 3",
   "language": "python",
   "name": "python3"
  },
  "language_info": {
   "codemirror_mode": {
    "name": "ipython",
    "version": 3
   },
   "file_extension": ".py",
   "mimetype": "text/x-python",
   "name": "python",
   "nbconvert_exporter": "python",
   "pygments_lexer": "ipython3",
   "version": "3.6.9"
  }
 },
 "nbformat": 4,
 "nbformat_minor": 4
}
