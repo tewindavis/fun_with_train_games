{
 "cells": [
  {
   "cell_type": "code",
   "execution_count": 19,
   "metadata": {},
   "outputs": [],
   "source": [
    "import pandas as pd\n",
    "import numpy as np\n",
    "import sqlite3 as sl"
   ]
  },
  {
   "cell_type": "markdown",
   "metadata": {},
   "source": [
    "## Import Data"
   ]
  },
  {
   "cell_type": "code",
   "execution_count": 36,
   "metadata": {},
   "outputs": [],
   "source": [
    "# sqlite connection\n",
    "cnxn=sl.connect('./TTRM')\n",
    "\n",
    "# dictionary of { table_name: value} pairs\n",
    "table_names = ['CITY', 'LEGS', 'SCORE', 'TICKETS']\n",
    "tables_dict = { table_name: pd.read_sql( \n",
    "                                            'SELECT * FROM ' + table_name\n",
    "                                            , cnxn\n",
    "                                        ) \n",
    "                       for table_name in table_names }"
   ]
  },
  {
   "cell_type": "markdown",
   "metadata": {},
   "source": [
    "### Preview first 5 rows of the tables"
   ]
  },
  {
   "cell_type": "code",
   "execution_count": 40,
   "metadata": {},
   "outputs": [
    {
     "name": "stdout",
     "output_type": "stream",
     "text": [
      "CITY \n",
      "          CITY   STATE DEGREE        LAT         LON\n",
      "0     Atlanta      GA      7  33.762909  -84.422675\n",
      "1      Boston      MA      4  42.360100  -71.058900\n",
      "2     Calgary   CA-BC      4  51.044270 -114.062019\n",
      "3  Charleston      SC      3  32.776500  -79.931100\n",
      "4     Chicago      IL      7  41.878100  -87.629800 \n",
      "\n",
      "\n",
      "LEGS \n",
      "        OCITY     DCITY ROUTE_COLOR  NUM_CARS\n",
      "0  Vancouver   Calgary        Gray         3\n",
      "1  Vancouver   Seattle        Gray         1\n",
      "2  Vancouver   Seattle        Gray         1\n",
      "3    Seattle  Portland        Gray         1\n",
      "4    Seattle  Portland        Gray         1 \n",
      "\n",
      "\n",
      "SCORE \n",
      "    NUM_CARS  POINTS\n",
      "0         1       1\n",
      "1         2       2\n",
      "2         3       4\n",
      "3         4       7\n",
      "4         5      10 \n",
      "\n",
      "\n",
      "TICKETS \n",
      "      OCITY           DCITY  POINTS\n",
      "0   Boston           Miami      12\n",
      "1  Calgary         Phoenix      13\n",
      "2  Calgary  Salt Lake City       7\n",
      "3  Chicago     New Orleans       7\n",
      "4  Chicago        Santa Fe       9 \n",
      "\n",
      "\n"
     ]
    }
   ],
   "source": [
    "for i in tables_dict:\n",
    "    print( i,'\\n', tables_dict[i].head(5), '\\n\\n' )"
   ]
  },
  {
   "cell_type": "code",
   "execution_count": null,
   "metadata": {},
   "outputs": [],
   "source": []
  }
 ],
 "metadata": {
  "kernelspec": {
   "display_name": "Python 3",
   "language": "python",
   "name": "python3"
  },
  "language_info": {
   "codemirror_mode": {
    "name": "ipython",
    "version": 3
   },
   "file_extension": ".py",
   "mimetype": "text/x-python",
   "name": "python",
   "nbconvert_exporter": "python",
   "pygments_lexer": "ipython3",
   "version": "3.6.9"
  }
 },
 "nbformat": 4,
 "nbformat_minor": 4
}
